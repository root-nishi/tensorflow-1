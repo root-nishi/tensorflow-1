{
 "cells": [
  {
   "cell_type": "code",
   "execution_count": 1,
   "metadata": {
    "collapsed": false
   },
   "outputs": [
    {
     "data": {
      "text/html": [
       "\n",
       "    <div class=\"bqtv\" id=\"1_146851632165\"><table><tr><th>title</th><th>revisions</th></tr><tr><td>George W. Bush</td><td>43652</td></tr><tr><td>List of World Wrestling Entertainment employees</td><td>30572</td></tr><tr><td>Wikipedia</td><td>29726</td></tr><tr><td>United States</td><td>27432</td></tr><tr><td>Michael Jackson</td><td>23245</td></tr><tr><td>Jesus</td><td>21768</td></tr><tr><td>Deaths in 2009</td><td>20814</td></tr><tr><td>World War II</td><td>20546</td></tr><tr><td>Britney Spears</td><td>20529</td></tr><tr><td>Wii</td><td>20225</td></tr></table></div>\n",
       "    <br />(rows: 10, time: 6.3s,     9GB processed, job: job_I1nvz6QvSilZKkjvr2ixZZ7X-KA)<br />\n",
       "    <script>\n",
       "      require(['extensions/charting', 'element!1_146851632165', 'style!/static/extensions/charting.css'],\n",
       "        function(charts, dom) {\n",
       "          charts.render(dom,\n",
       "            {\n",
       "              chartStyle:\"table\",\n",
       "              dataName:\"0\",\n",
       "              fields:\"title,revisions\",\n",
       "              totalRows:10,\n",
       "              rowsPerPage:25,\n",
       "            }, {}, {\"rows\": [{\"c\": [{\"v\": \"George W. Bush\"}, {\"v\": 43652}]}, {\"c\": [{\"v\": \"List of World Wrestling Entertainment employees\"}, {\"v\": 30572}]}, {\"c\": [{\"v\": \"Wikipedia\"}, {\"v\": 29726}]}, {\"c\": [{\"v\": \"United States\"}, {\"v\": 27432}]}, {\"c\": [{\"v\": \"Michael Jackson\"}, {\"v\": 23245}]}, {\"c\": [{\"v\": \"Jesus\"}, {\"v\": 21768}]}, {\"c\": [{\"v\": \"Deaths in 2009\"}, {\"v\": 20814}]}, {\"c\": [{\"v\": \"World War II\"}, {\"v\": 20546}]}, {\"c\": [{\"v\": \"Britney Spears\"}, {\"v\": 20529}]}, {\"c\": [{\"v\": \"Wii\"}, {\"v\": 20225}]}], \"cols\": [{\"type\": \"string\", \"id\": \"title\", \"label\": \"title\"}, {\"type\": \"number\", \"id\": \"revisions\", \"label\": \"revisions\"}]});\n",
       "        }\n",
       "      );\n",
       "    </script>\n",
       "  "
      ],
      "text/plain": [
       "QueryResultsTable job_I1nvz6QvSilZKkjvr2ixZZ7X-KA"
      ]
     },
     "execution_count": 1,
     "metadata": {},
     "output_type": "execute_result"
    }
   ],
   "source": [
    "%%sql\n",
    "SELECT TOP(title, 10) as title, COUNT(*) as revisions\n",
    "FROM [publicdata:samples.wikipedia]\n",
    "WHERE wp_namespace = 0"
   ]
  },
  {
   "cell_type": "code",
   "execution_count": 13,
   "metadata": {
    "collapsed": false
   },
   "outputs": [
    {
     "data": {
      "text/html": [
       "<ul><li>publicdata:samples.github_nested</li><li>publicdata:samples.github_timeline</li><li>publicdata:samples.gsod</li><li>publicdata:samples.natality</li><li>publicdata:samples.shakespeare</li><li>publicdata:samples.trigrams</li><li>publicdata:samples.wikipedia</li></ul>"
      ],
      "text/plain": [
       "<IPython.core.display.HTML object>"
      ]
     },
     "execution_count": 13,
     "metadata": {},
     "output_type": "execute_result"
    }
   ],
   "source": [
    "%%bigquery tables -p publicdata"
   ]
  },
  {
   "cell_type": "code",
   "execution_count": 10,
   "metadata": {
    "collapsed": false
   },
   "outputs": [
    {
     "data": {
      "text/html": [
       "<ul><li>cloud-datalab-samples:appenginelogs</li><li>cloud-datalab-samples:carprices</li><li>cloud-datalab-samples:httplogs</li></ul>"
      ],
      "text/plain": [
       "<IPython.core.display.HTML object>"
      ]
     },
     "execution_count": 10,
     "metadata": {},
     "output_type": "execute_result"
    }
   ],
   "source": [
    "%%bigquery datasets --project cloud-datalab-samples"
   ]
  },
  {
   "cell_type": "markdown",
   "metadata": {},
   "source": [
    "# Hello BigQuery\n",
    "\n",
    "[BigQuery](https://cloud.google.com/bigquery) is a fast, economical and fully managed data warehouse for large-scale data analytics. You can use BigQuery and SQL to focus on transforming your data and using it for insights."
   ]
  },
  {
   "cell_type": "code",
   "execution_count": 11,
   "metadata": {
    "collapsed": false
   },
   "outputs": [
    {
     "data": {
      "text/html": [
       "<ul><li>cloud-datalab-samples:httplogs.logs_20140615</li><li>cloud-datalab-samples:httplogs.logs_20140616</li><li>cloud-datalab-samples:httplogs.logs_20140617</li><li>cloud-datalab-samples:httplogs.logs_20140618</li><li>cloud-datalab-samples:httplogs.logs_20140619</li><li>cloud-datalab-samples:httplogs.logs_20140620</li></ul>"
      ],
      "text/plain": [
       "<IPython.core.display.HTML object>"
      ]
     },
     "execution_count": 11,
     "metadata": {},
     "output_type": "execute_result"
    }
   ],
   "source": [
    "%bigquery tables --dataset cloud-datalab-samples:httplogs"
   ]
  },
  {
   "cell_type": "code",
   "execution_count": 16,
   "metadata": {
    "collapsed": false
   },
   "outputs": [
    {
     "data": {
      "text/html": [
       "\n",
       "    <div class=\"bqsv\" id=\"2_146851728381\"></div>\n",
       "    <script>\n",
       "      require(['extensions/bigquery', 'element!2_146851728381', 'style!/static/extensions/bigquery.css'],\n",
       "        function(bq, dom) {\n",
       "          bq.renderSchema(dom, [{\"type\": \"TIMESTAMP\", \"name\": \"timestamp\"}, {\"type\": \"INTEGER\", \"name\": \"latency\"}, {\"type\": \"INTEGER\", \"name\": \"status\"}, {\"type\": \"STRING\", \"name\": \"method\"}, {\"type\": \"STRING\", \"name\": \"endpoint\"}]);\n",
       "        }\n",
       "      );\n",
       "    </script>\n",
       "    "
      ],
      "text/plain": [
       "<IPython.core.display.HTML object>"
      ]
     },
     "execution_count": 16,
     "metadata": {},
     "output_type": "execute_result"
    }
   ],
   "source": [
    "%%bigquery schema -t cloud-datalab-samples:httplogs.logs_20140615"
   ]
  },
  {
   "cell_type": "markdown",
   "metadata": {},
   "source": [
    "----\n",
    "\n",
    "If you're a BigQuery user, you've likely used the BigQuery console. Like the console, Cloud Datalab makes it simple to issue a SQL query, and see the results.\n",
    "\n",
    "As the other notebooks in the tutorials and samples will illustrate, with Cloud Datalab, you can go the next step - issue multiple queries, visualize the data beyond tables, and ultimately build sophisticated pipelines to use your data to fullest extent possible, with productivity.\n",
    "\n",
    "One additional link - the [BigQuery SQL reference](https://cloud.google.com/bigquery/query-reference). This is also accessible at any time using the Help menu on the toolbar on the top of the page."
   ]
  },
  {
   "cell_type": "code",
   "execution_count": 17,
   "metadata": {
    "collapsed": false
   },
   "outputs": [
    {
     "data": {
      "text/html": [
       "\n",
       "    <div class=\"bqtv\" id=\"3_146851732236\"><table><tr><th>timestamp</th><th>latency</th><th>status</th><th>method</th><th>endpoint</th></tr><tr><td>2014-06-15 07:00:00.003772</td><td>122</td><td>200</td><td>GET</td><td>Interact3</td></tr><tr><td>2014-06-15 07:00:00.428897</td><td>144</td><td>200</td><td>GET</td><td>Interact3</td></tr><tr><td>2014-06-15 07:00:00.536486</td><td>48</td><td>200</td><td>GET</td><td>Interact3</td></tr><tr><td>2014-06-15 07:00:00.652760</td><td>28</td><td>405</td><td>GET</td><td>Interact2</td></tr><tr><td>2014-06-15 07:00:00.670100</td><td>103</td><td>200</td><td>GET</td><td>Interact3</td></tr></table></div>\n",
       "    <br />(rows: 5, time: 1.1s,    24MB processed, job: job_5D63uo-QCT3ToHNsqrPEP-pLDzc)<br />\n",
       "    <script>\n",
       "      require(['extensions/charting', 'element!3_146851732236', 'style!/static/extensions/charting.css'],\n",
       "        function(charts, dom) {\n",
       "          charts.render(dom,\n",
       "            {\n",
       "              chartStyle:\"table\",\n",
       "              dataName:\"1\",\n",
       "              fields:\"timestamp,latency,status,method,endpoint\",\n",
       "              totalRows:5,\n",
       "              rowsPerPage:25,\n",
       "            }, {}, {\"rows\": [{\"c\": [{\"v\": \"2014-06-15T07:00:00.003772\"}, {\"v\": 122}, {\"v\": 200}, {\"v\": \"GET\"}, {\"v\": \"Interact3\"}]}, {\"c\": [{\"v\": \"2014-06-15T07:00:00.428897\"}, {\"v\": 144}, {\"v\": 200}, {\"v\": \"GET\"}, {\"v\": \"Interact3\"}]}, {\"c\": [{\"v\": \"2014-06-15T07:00:00.536486\"}, {\"v\": 48}, {\"v\": 200}, {\"v\": \"GET\"}, {\"v\": \"Interact3\"}]}, {\"c\": [{\"v\": \"2014-06-15T07:00:00.652760\"}, {\"v\": 28}, {\"v\": 405}, {\"v\": \"GET\"}, {\"v\": \"Interact2\"}]}, {\"c\": [{\"v\": \"2014-06-15T07:00:00.670100\"}, {\"v\": 103}, {\"v\": 200}, {\"v\": \"GET\"}, {\"v\": \"Interact3\"}]}], \"cols\": [{\"type\": \"datetime\", \"id\": \"timestamp\", \"label\": \"timestamp\"}, {\"type\": \"number\", \"id\": \"latency\", \"label\": \"latency\"}, {\"type\": \"number\", \"id\": \"status\", \"label\": \"status\"}, {\"type\": \"string\", \"id\": \"method\", \"label\": \"method\"}, {\"type\": \"string\", \"id\": \"endpoint\", \"label\": \"endpoint\"}]});\n",
       "        }\n",
       "      );\n",
       "    </script>\n",
       "  "
      ],
      "text/plain": [
       "QueryResultsTable job_5D63uo-QCT3ToHNsqrPEP-pLDzc"
      ]
     },
     "execution_count": 17,
     "metadata": {},
     "output_type": "execute_result"
    }
   ],
   "source": [
    "%bigquery sample --table cloud-datalab-samples:httplogs.logs_20140615 --count 5"
   ]
  },
  {
   "cell_type": "markdown",
   "metadata": {},
   "source": [
    "This query works against the Wikipedia sample dataset within BigQuery. Select and execute to see the top 10 articles, based on # of revisions."
   ]
  }
 ],
 "metadata": {
  "kernelspec": {
   "display_name": "Python 2",
   "language": "python",
   "name": "python2"
  },
  "language_info": {
   "codemirror_mode": {
    "name": "ipython",
    "version": 2
   },
   "file_extension": ".py",
   "mimetype": "text/x-python",
   "name": "python",
   "nbconvert_exporter": "python",
   "pygments_lexer": "ipython2",
   "version": "2.7.9"
  }
 },
 "nbformat": 4,
 "nbformat_minor": 0
}
